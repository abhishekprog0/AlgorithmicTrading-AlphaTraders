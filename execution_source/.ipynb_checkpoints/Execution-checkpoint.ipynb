{
 "cells": [
  {
   "cell_type": "markdown",
   "metadata": {},
   "source": [
    "# Data Preparation for VWAP\n"
   ]
  },
  {
   "cell_type": "code",
   "execution_count": null,
   "metadata": {},
   "outputs": [],
   "source": [
    "%matplotlib inline\n",
    "%load_ext autoreload\n",
    "%autoreload 2\n",
    "\n",
    "import matplotlib\n",
    "import matplotlib.pyplot as plt\n",
    "import numpy as np\n",
    "import pandas as pd\n",
    "import sklearn as skl\n",
    "\n",
    "from vwap_profile_1 import VWAP\n",
    "import simtools as st\n",
    "import vwap2 as vw\n",
    "\n"
   ]
  },
  {
   "cell_type": "code",
   "execution_count": 2,
   "metadata": {},
   "outputs": [],
   "source": [
    "\n",
    "#Trade File should be ZIP and have Columns as - \n",
    "#'DATE', 'TIME_M', 'SYM_ROOT', 'SYM_SUFFIX', 'SIZE', 'PRICE'\n",
    "trade_path = 'e4733b5baa1d0556_csv.zip'\n",
    "\n",
    "\n",
    "#Quote File should be ZIP and have Columns as - \n",
    "#'DATE', 'TIME_M', 'EX', 'BID', 'BIDSIZ', 'ASK', 'ASKSIZ', 'QU_COND',\n",
    "#'QU_SEQNUM', 'NATBBO_IND', 'QU_CANCEL', 'QU_SOURCE', 'SYM_ROOT','SYM_SUFFIX'\n",
    "\n",
    "quote_path = '938cbee848f07821_csv.zip'\n",
    "\n",
    "\n"
   ]
  },
  {
   "cell_type": "code",
   "execution_count": 3,
   "metadata": {},
   "outputs": [],
   "source": [
    "trade = pd.read_csv(trade_path)"
   ]
  },
  {
   "cell_type": "code",
   "execution_count": 4,
   "metadata": {},
   "outputs": [],
   "source": [
    "quote = pd.read_csv(quote_path)"
   ]
  },
  {
   "cell_type": "code",
   "execution_count": 5,
   "metadata": {},
   "outputs": [
    {
     "data": {
      "text/html": [
       "<div>\n",
       "<style scoped>\n",
       "    .dataframe tbody tr th:only-of-type {\n",
       "        vertical-align: middle;\n",
       "    }\n",
       "\n",
       "    .dataframe tbody tr th {\n",
       "        vertical-align: top;\n",
       "    }\n",
       "\n",
       "    .dataframe thead th {\n",
       "        text-align: right;\n",
       "    }\n",
       "</style>\n",
       "<table border=\"1\" class=\"dataframe\">\n",
       "  <thead>\n",
       "    <tr style=\"text-align: right;\">\n",
       "      <th></th>\n",
       "      <th>DATE</th>\n",
       "      <th>TIME_M</th>\n",
       "      <th>SYM_ROOT</th>\n",
       "      <th>SYM_SUFFIX</th>\n",
       "      <th>SIZE</th>\n",
       "      <th>PRICE</th>\n",
       "    </tr>\n",
       "  </thead>\n",
       "  <tbody>\n",
       "    <tr>\n",
       "      <td>835504</td>\n",
       "      <td>20190717</td>\n",
       "      <td>19:59:43.504871471</td>\n",
       "      <td>AAPL</td>\n",
       "      <td>NaN</td>\n",
       "      <td>100</td>\n",
       "      <td>203.00</td>\n",
       "    </tr>\n",
       "    <tr>\n",
       "      <td>835505</td>\n",
       "      <td>20190717</td>\n",
       "      <td>19:59:45.816040361</td>\n",
       "      <td>AAPL</td>\n",
       "      <td>NaN</td>\n",
       "      <td>100</td>\n",
       "      <td>203.00</td>\n",
       "    </tr>\n",
       "    <tr>\n",
       "      <td>835506</td>\n",
       "      <td>20190717</td>\n",
       "      <td>19:59:56.193865808</td>\n",
       "      <td>AAPL</td>\n",
       "      <td>NaN</td>\n",
       "      <td>649</td>\n",
       "      <td>203.05</td>\n",
       "    </tr>\n",
       "    <tr>\n",
       "      <td>835507</td>\n",
       "      <td>20190717</td>\n",
       "      <td>19:59:56.197781583</td>\n",
       "      <td>AAPL</td>\n",
       "      <td>NaN</td>\n",
       "      <td>351</td>\n",
       "      <td>203.05</td>\n",
       "    </tr>\n",
       "    <tr>\n",
       "      <td>835508</td>\n",
       "      <td>20190717</td>\n",
       "      <td>19:59:56.336807986</td>\n",
       "      <td>AAPL</td>\n",
       "      <td>NaN</td>\n",
       "      <td>200</td>\n",
       "      <td>203.00</td>\n",
       "    </tr>\n",
       "  </tbody>\n",
       "</table>\n",
       "</div>"
      ],
      "text/plain": [
       "            DATE              TIME_M SYM_ROOT  SYM_SUFFIX  SIZE   PRICE\n",
       "835504  20190717  19:59:43.504871471     AAPL         NaN   100  203.00\n",
       "835505  20190717  19:59:45.816040361     AAPL         NaN   100  203.00\n",
       "835506  20190717  19:59:56.193865808     AAPL         NaN   649  203.05\n",
       "835507  20190717  19:59:56.197781583     AAPL         NaN   351  203.05\n",
       "835508  20190717  19:59:56.336807986     AAPL         NaN   200  203.00"
      ]
     },
     "execution_count": 5,
     "metadata": {},
     "output_type": "execute_result"
    }
   ],
   "source": [
    "#Drop 'EX' Column from trade (Only Run this if EX Column is present in the data)\n",
    "trade.drop(columns = [\"EX\"],inplace=True)\n",
    "trade.tail()"
   ]
  },
  {
   "cell_type": "code",
   "execution_count": 6,
   "metadata": {
    "scrolled": true
   },
   "outputs": [
    {
     "name": "stdout",
     "output_type": "stream",
     "text": [
      "2020-04-25 10:44:05:279483: load quotes\n",
      "2020-04-25 10:44:23:377945: load complete\n",
      "2020-04-25 10:44:23:377945: indexing quotes\n",
      "2020-04-25 10:45:03:590975: index quotes done\n"
     ]
    }
   ],
   "source": [
    "df_quote = st.loadquotefile(quote_path)"
   ]
  },
  {
   "cell_type": "code",
   "execution_count": 7,
   "metadata": {},
   "outputs": [
    {
     "name": "stdout",
     "output_type": "stream",
     "text": [
      "2020-04-25 10:45:04:248282: load trades\n",
      "2020-04-25 10:45:04:363033: load complete\n",
      "2020-04-25 10:45:04:363033: indexing trades\n",
      "2020-04-25 10:45:06:163386: index trades done\n"
     ]
    }
   ],
   "source": [
    "df_trade = st.loadtradefile(trade)"
   ]
  },
  {
   "cell_type": "code",
   "execution_count": 8,
   "metadata": {},
   "outputs": [],
   "source": [
    "#print(df_trade.size)"
   ]
  },
  {
   "cell_type": "code",
   "execution_count": 9,
   "metadata": {},
   "outputs": [
    {
     "name": "stdout",
     "output_type": "stream",
     "text": [
      "2020-04-25 10:45:06:403480: start merge\n",
      "2020-04-25 10:45:12:728133: end merge\n"
     ]
    }
   ],
   "source": [
    "taq_merged = st.makeTAQfile(df_trade, df_quote)"
   ]
  },
  {
   "cell_type": "code",
   "execution_count": 10,
   "metadata": {},
   "outputs": [],
   "source": [
    "#Define Start and End Time here\n",
    "start_time = \"9:30:00\" \n",
    "end_time = \"16:00:00\"\n",
    "\n",
    "taq_merged_timed = taq_merged.between_time(start_time,end_time)\n",
    "taq_merged_timed.to_pickle('taq_merged_timed')"
   ]
  },
  {
   "cell_type": "code",
   "execution_count": 11,
   "metadata": {},
   "outputs": [],
   "source": [
    "taq_merged = pd.read_pickle('taq_merged_timed')"
   ]
  },
  {
   "cell_type": "code",
   "execution_count": 12,
   "metadata": {},
   "outputs": [],
   "source": [
    "taq_merged_2 = taq_merged[taq_merged.index.day.isin([10])]\n"
   ]
  },
  {
   "cell_type": "code",
   "execution_count": 13,
   "metadata": {
    "scrolled": true
   },
   "outputs": [
    {
     "data": {
      "text/html": [
       "<div>\n",
       "<style scoped>\n",
       "    .dataframe tbody tr th:only-of-type {\n",
       "        vertical-align: middle;\n",
       "    }\n",
       "\n",
       "    .dataframe tbody tr th {\n",
       "        vertical-align: top;\n",
       "    }\n",
       "\n",
       "    .dataframe thead th {\n",
       "        text-align: right;\n",
       "    }\n",
       "</style>\n",
       "<table border=\"1\" class=\"dataframe\">\n",
       "  <thead>\n",
       "    <tr style=\"text-align: right;\">\n",
       "      <th></th>\n",
       "      <th>exch</th>\n",
       "      <th>bid_px</th>\n",
       "      <th>bid_size</th>\n",
       "      <th>ask_px</th>\n",
       "      <th>ask_size</th>\n",
       "      <th>qu_cond</th>\n",
       "      <th>qu_seqnum</th>\n",
       "      <th>natbbo_ind</th>\n",
       "      <th>qu_cancel</th>\n",
       "      <th>qu_source</th>\n",
       "      <th>symbol</th>\n",
       "      <th>suffix_x</th>\n",
       "      <th>suffix_y</th>\n",
       "      <th>trade_size</th>\n",
       "      <th>trade_px</th>\n",
       "    </tr>\n",
       "  </thead>\n",
       "  <tbody>\n",
       "    <tr>\n",
       "      <td>2019-07-10 15:59:59.967465369</td>\n",
       "      <td>B</td>\n",
       "      <td>203.17</td>\n",
       "      <td>1.0</td>\n",
       "      <td>203.28</td>\n",
       "      <td>1.0</td>\n",
       "      <td>R</td>\n",
       "      <td>26819596.0</td>\n",
       "      <td>0.0</td>\n",
       "      <td>NaN</td>\n",
       "      <td>N</td>\n",
       "      <td>AAPL</td>\n",
       "      <td>NaN</td>\n",
       "      <td>NaN</td>\n",
       "      <td>NaN</td>\n",
       "      <td>NaN</td>\n",
       "    </tr>\n",
       "    <tr>\n",
       "      <td>2019-07-10 15:59:59.968042036</td>\n",
       "      <td>Q</td>\n",
       "      <td>203.17</td>\n",
       "      <td>3.0</td>\n",
       "      <td>203.24</td>\n",
       "      <td>1.0</td>\n",
       "      <td>R</td>\n",
       "      <td>26819600.0</td>\n",
       "      <td>2.0</td>\n",
       "      <td>NaN</td>\n",
       "      <td>N</td>\n",
       "      <td>AAPL</td>\n",
       "      <td>NaN</td>\n",
       "      <td>NaN</td>\n",
       "      <td>NaN</td>\n",
       "      <td>NaN</td>\n",
       "    </tr>\n",
       "    <tr>\n",
       "      <td>2019-07-10 15:59:59.979871704</td>\n",
       "      <td>Y</td>\n",
       "      <td>203.08</td>\n",
       "      <td>1.0</td>\n",
       "      <td>203.21</td>\n",
       "      <td>6.0</td>\n",
       "      <td>R</td>\n",
       "      <td>26819791.0</td>\n",
       "      <td>0.0</td>\n",
       "      <td>NaN</td>\n",
       "      <td>N</td>\n",
       "      <td>AAPL</td>\n",
       "      <td>NaN</td>\n",
       "      <td>NaN</td>\n",
       "      <td>NaN</td>\n",
       "      <td>NaN</td>\n",
       "    </tr>\n",
       "    <tr>\n",
       "      <td>2019-07-10 15:59:59.983750509</td>\n",
       "      <td>Z</td>\n",
       "      <td>203.17</td>\n",
       "      <td>2.0</td>\n",
       "      <td>203.23</td>\n",
       "      <td>1.0</td>\n",
       "      <td>R</td>\n",
       "      <td>26819835.0</td>\n",
       "      <td>0.0</td>\n",
       "      <td>NaN</td>\n",
       "      <td>N</td>\n",
       "      <td>AAPL</td>\n",
       "      <td>NaN</td>\n",
       "      <td>NaN</td>\n",
       "      <td>NaN</td>\n",
       "      <td>NaN</td>\n",
       "    </tr>\n",
       "    <tr>\n",
       "      <td>2019-07-10 15:59:59.991389617</td>\n",
       "      <td>K</td>\n",
       "      <td>203.17</td>\n",
       "      <td>1.0</td>\n",
       "      <td>203.22</td>\n",
       "      <td>1.0</td>\n",
       "      <td>R</td>\n",
       "      <td>26819964.0</td>\n",
       "      <td>0.0</td>\n",
       "      <td>NaN</td>\n",
       "      <td>N</td>\n",
       "      <td>AAPL</td>\n",
       "      <td>NaN</td>\n",
       "      <td>NaN</td>\n",
       "      <td>NaN</td>\n",
       "      <td>NaN</td>\n",
       "    </tr>\n",
       "  </tbody>\n",
       "</table>\n",
       "</div>"
      ],
      "text/plain": [
       "                              exch  bid_px  bid_size  ask_px  ask_size  \\\n",
       "2019-07-10 15:59:59.967465369    B  203.17       1.0  203.28       1.0   \n",
       "2019-07-10 15:59:59.968042036    Q  203.17       3.0  203.24       1.0   \n",
       "2019-07-10 15:59:59.979871704    Y  203.08       1.0  203.21       6.0   \n",
       "2019-07-10 15:59:59.983750509    Z  203.17       2.0  203.23       1.0   \n",
       "2019-07-10 15:59:59.991389617    K  203.17       1.0  203.22       1.0   \n",
       "\n",
       "                              qu_cond   qu_seqnum  natbbo_ind  qu_cancel  \\\n",
       "2019-07-10 15:59:59.967465369       R  26819596.0         0.0        NaN   \n",
       "2019-07-10 15:59:59.968042036       R  26819600.0         2.0        NaN   \n",
       "2019-07-10 15:59:59.979871704       R  26819791.0         0.0        NaN   \n",
       "2019-07-10 15:59:59.983750509       R  26819835.0         0.0        NaN   \n",
       "2019-07-10 15:59:59.991389617       R  26819964.0         0.0        NaN   \n",
       "\n",
       "                              qu_source symbol  suffix_x  suffix_y  \\\n",
       "2019-07-10 15:59:59.967465369         N   AAPL       NaN       NaN   \n",
       "2019-07-10 15:59:59.968042036         N   AAPL       NaN       NaN   \n",
       "2019-07-10 15:59:59.979871704         N   AAPL       NaN       NaN   \n",
       "2019-07-10 15:59:59.983750509         N   AAPL       NaN       NaN   \n",
       "2019-07-10 15:59:59.991389617         N   AAPL       NaN       NaN   \n",
       "\n",
       "                               trade_size  trade_px  \n",
       "2019-07-10 15:59:59.967465369         NaN       NaN  \n",
       "2019-07-10 15:59:59.968042036         NaN       NaN  \n",
       "2019-07-10 15:59:59.979871704         NaN       NaN  \n",
       "2019-07-10 15:59:59.983750509         NaN       NaN  \n",
       "2019-07-10 15:59:59.991389617         NaN       NaN  "
      ]
     },
     "execution_count": 13,
     "metadata": {},
     "output_type": "execute_result"
    }
   ],
   "source": [
    "taq_merged_2.tail()"
   ]
  },
  {
   "cell_type": "markdown",
   "metadata": {},
   "source": [
    "### Model Training for VWAP Coefficients"
   ]
  },
  {
   "cell_type": "code",
   "execution_count": 14,
   "metadata": {},
   "outputs": [],
   "source": [
    "df_trade.to_pickle('train_data_2')"
   ]
  },
  {
   "cell_type": "code",
   "execution_count": 15,
   "metadata": {},
   "outputs": [
    {
     "name": "stdout",
     "output_type": "stream",
     "text": [
      "0.9974626734219645\n",
      "The coefficient for the VWAP model are [ 9.22812982e-03 -8.65885374e-05  4.68640513e-07 -1.18587799e-09\n",
      "  1.12803834e-12]\n"
     ]
    },
    {
     "data": {
      "image/png": "[encoded data removed]",
      "text/plain": [
       "<Figure size 432x288 with 1 Axes>"
      ]
     },
     "metadata": {
      "needs_background": "light"
     },
     "output_type": "display_data"
    }
   ],
   "source": [
    "test = VWAP('train_data_2')\n",
    "test.fitModel()\n",
    "test.plot()\n",
    "vwap_coefs = test.coef"
   ]
  },
  {
   "cell_type": "markdown",
   "metadata": {},
   "source": [
    "### Running Execution for VWAP Profile"
   ]
  },
  {
   "cell_type": "code",
   "execution_count": 17,
   "metadata": {},
   "outputs": [
    {
     "name": "stdout",
     "output_type": "stream",
     "text": [
      "2020-04-25 11:09:46:279584: Beginning VWAP run: b 1000 shares\n",
      "Average stock spread for sample: 0.4998\n",
      "2020-04-25 11:09:46:644447: starting main loop\n",
      "Trade Executed\n",
      "Trade Executed\n",
      "Trade Executed\n",
      "Trade Executed\n",
      "Trade Executed\n",
      "Trade Executed\n",
      "Trade Executed\n",
      "Trade Executed\n",
      "Trade Executed\n",
      "Trade Executed\n",
      "Trade Executed\n",
      "Trade Executed\n",
      "2020-04-25 11:14:22:515630: end simulation loop\n",
      "2020-04-25 11:14:22:515630: order analytics\n",
      "2020-04-25 11:14:22:718008: VWAP run complete.\n"
     ]
    }
   ],
   "source": [
    "order_quantity = 1000\n",
    "order_side = 'b'\n",
    "results = vw.algo_loop(taq_merged_2, order_side, order_quantity, vwap_coefs,tick_coef=0)"
   ]
  },
  {
   "cell_type": "code",
   "execution_count": null,
   "metadata": {},
   "outputs": [],
   "source": []
  },
  {
   "cell_type": "code",
   "execution_count": null,
   "metadata": {},
   "outputs": [],
   "source": []
  },
  {
   "cell_type": "code",
   "execution_count": null,
   "metadata": {},
   "outputs": [],
   "source": []
  }
 ],
 "metadata": {
  "kernelspec": {
   "display_name": "Python 2",
   "language": "python",
   "name": "python2"
  },
  "language_info": {
   "codemirror_mode": {
    "name": "ipython",
    "version": 2
   },
   "file_extension": ".py",
   "mimetype": "text/x-python",
   "name": "python",
   "nbconvert_exporter": "python",
   "pygments_lexer": "ipython2",
   "version": "2.7.17"
  }
 },
 "nbformat": 4,
 "nbformat_minor": 4
}
