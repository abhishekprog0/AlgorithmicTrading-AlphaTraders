{
 "cells": [
  {
   "cell_type": "code",
   "execution_count": 67,
   "metadata": {},
   "outputs": [],
   "source": [
    "import numpy as np \n",
    "import matplotlib.pyplot as plt "
   ]
  },
  {
   "cell_type": "code",
   "execution_count": 68,
   "metadata": {},
   "outputs": [],
   "source": [
    "def Returns(alpha, stock_returns):\n",
    "    \n",
    "    '''\n",
    "    Dimensions: \n",
    "\n",
    "    alpha = [N, T]\n",
    "    stock_returns = [N, T]\n",
    "    \n",
    "    '''\n",
    "\n",
    "    N, T = alpha.shape \n",
    "    Portfolio_Daily_Returns = np.zeros((T))\n",
    "    alpha = alpha.transpose()\n",
    "    stock_returns = stock_returns.transpose()\n",
    "    \n",
    "    for i in range(T):\n",
    "\n",
    "        Portfolio_Daily_Returns[i] = np.dot(alpha[i], stock_returns[i])\n",
    "    \n",
    "    return Portfolio_Daily_Returns"
   ]
  },
  {
   "cell_type": "code",
   "execution_count": 69,
   "metadata": {},
   "outputs": [],
   "source": [
    "def Variance(alpha, stock_returns):\n",
    "    \n",
    "    '''\n",
    "    Dimensions: \n",
    "\n",
    "    alpha = [N, T]\n",
    "    stock_returns = [N, T]\n",
    "    \n",
    "    '''\n",
    "    \n",
    "    N, T = alpha.shape \n",
    "    Portfolio_Daily_Variance = np.ones((T))\n",
    "    alpha = alpha.transpose()\n",
    "    stock_returns = stock_returns.transpose()\n",
    "    \n",
    "    for i in range(T):\n",
    "         \n",
    "        #print (np.cov(stock_returns[i], ddof = 1))    \n",
    "        print ((stock_returns[i])) \n",
    "        Portfolio_Daily_Variance[i] = np.dot(np.multiply(alpha[i], np.cov(stock_returns[i], ddof = 1)), alpha[i].transpose())\n",
    "        \n",
    "        \n",
    "    print (Portfolio_Daily_Variance)\n",
    "    return Portfolio_Daily_Variance\n",
    "        "
   ]
  },
  {
   "cell_type": "code",
   "execution_count": 70,
   "metadata": {},
   "outputs": [],
   "source": [
    "def Sharpe(alpha, stock_returns, r = 0.0):\n",
    "\n",
    "    '''\n",
    "    Dimensions: \n",
    "\n",
    "    alpha = [N, T]\n",
    "    stock_returns = [N, T]\n",
    "    \n",
    "    '''\n",
    "\n",
    "    Portfolio_Daily_Returns = Returns(alpha, stock_returns)\n",
    "    Portfolio_Daily_Variance = Variance(alpha, stock_returns)\n",
    "    Portfolio_Daily_Sharpe = (Portfolio_Daily_Returns - r)/np.sqrt(Portfolio_Daily_Variance)\n",
    "    \n",
    "    return Portfolio_Daily_Sharpe"
   ]
  },
  {
   "cell_type": "code",
   "execution_count": 71,
   "metadata": {},
   "outputs": [
    {
     "name": "stdout",
     "output_type": "stream",
     "text": [
      "[ 0  5 10 15]\n",
      "[ 1  6 11 16]\n",
      "[ 2  7 12 17]\n",
      "[ 3  8 13 18]\n",
      "[ 4  9 14 19]\n",
      "[10.41666667 10.41666667 10.41666667 10.41666667 10.41666667]\n",
      "[2.32379001 2.63362868 2.94346734 3.25330601 3.56314468]\n"
     ]
    }
   ],
   "source": [
    "\n",
    "alpha = np.ones((4, 5)) * 0.25\n",
    "stock_returns =  np.arange(20).reshape(4,5)\n",
    "\n",
    "Daily_Sharpe = Sharpe(alpha, stock_returns)\n",
    "print (Daily_Sharpe)\n",
    "\n"
   ]
  },
  {
   "cell_type": "code",
   "execution_count": null,
   "metadata": {},
   "outputs": [],
   "source": []
  },
  {
   "cell_type": "code",
   "execution_count": null,
   "metadata": {},
   "outputs": [],
   "source": []
  }
 ],
 "metadata": {
  "kernelspec": {
   "display_name": "Python 3.7.6 64-bit",
   "language": "python",
   "name": "python37664bit83b39a1bcacf4dd48134afbd421614b3"
  },
  "language_info": {
   "codemirror_mode": {
    "name": "ipython",
    "version": 3
   },
   "file_extension": ".py",
   "mimetype": "text/x-python",
   "name": "python",
   "nbconvert_exporter": "python",
   "pygments_lexer": "ipython3",
   "version": "3.7.7"
  }
 },
 "nbformat": 4,
 "nbformat_minor": 4
}
